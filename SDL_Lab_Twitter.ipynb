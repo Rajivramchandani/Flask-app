{
  "nbformat": 4,
  "nbformat_minor": 0,
  "metadata": {
    "colab": {
      "name": "SDL Lab Twitter.ipynb",
      "provenance": [],
      "collapsed_sections": []
    },
    "kernelspec": {
      "name": "python3",
      "display_name": "Python 3"
    },
    "accelerator": "GPU"
  },
  "cells": [
    {
      "cell_type": "markdown",
      "metadata": {
        "id": "IGpn3wENCoCv"
      },
      "source": [
        "All libraries imported *here*"
      ]
    },
    {
      "cell_type": "code",
      "metadata": {
        "id": "AT96EvIEtWS4",
        "colab": {
          "base_uri": "https://localhost:8080/"
        },
        "outputId": "0471bf7a-96db-4135-cc7d-300f120de4ea"
      },
      "source": [
        "#Imports\n",
        "import numpy as np\n",
        "import pandas as pd\n",
        "import re\n",
        "import os\n",
        "import tensorflow as tf\n",
        "import tensorflow_datasets as tfds\n",
        "import keras\n",
        "from keras.preprocessing.text import Tokenizer\n",
        "from keras.preprocessing.sequence import pad_sequences\n",
        "from keras.layers import Input, Embedding, LSTM, GRU, Bidirectional, Dense, MaxPooling1D, Convolution1D, Dropout, Activation, GlobalMaxPool1D\n",
        "from tensorflow.keras.optimizers import RMSprop\n",
        "from keras.models import Model, Sequential\n",
        "from tensorflow.keras import regularizers\n",
        "from gensim.models import Word2Vec, Phrases\n",
        "import nltk\n",
        "from nltk.corpus import stopwords\n",
        "nltk.download('stopwords')\n",
        "nltk.download('wordnet')\n",
        "from nltk.stem import WordNetLemmatizer\n",
        "from sklearn.model_selection import train_test_split\n",
        "import matplotlib.pyplot as plt\n",
        "import seaborn as sb\n",
        "from sklearn.metrics import accuracy_score, confusion_matrix"
      ],
      "execution_count": null,
      "outputs": [
        {
          "output_type": "stream",
          "text": [
            "[nltk_data] Downloading package stopwords to /root/nltk_data...\n",
            "[nltk_data]   Unzipping corpora/stopwords.zip.\n",
            "[nltk_data] Downloading package wordnet to /root/nltk_data...\n",
            "[nltk_data]   Unzipping corpora/wordnet.zip.\n"
          ],
          "name": "stdout"
        }
      ]
    },
    {
      "cell_type": "markdown",
      "metadata": {
        "id": "6R_Y2OW4C3fy"
      },
      "source": [
        "Loading the dataset\n",
        "\n"
      ]
    },
    {
      "cell_type": "code",
      "metadata": {
        "id": "p5wcM4EAt3lZ",
        "colab": {
          "base_uri": "https://localhost:8080/"
        },
        "outputId": "b97e0e3b-00b6-44d1-93ca-6b53dfee5f7f"
      },
      "source": [
        "#Mount Drive\n",
        "from google.colab import drive\n",
        "drive.mount('/content/drive')"
      ],
      "execution_count": null,
      "outputs": [
        {
          "output_type": "stream",
          "text": [
            "Mounted at /content/drive\n"
          ],
          "name": "stdout"
        }
      ]
    },
    {
      "cell_type": "code",
      "metadata": {
        "id": "9pJP6hHq-bwI",
        "colab": {
          "base_uri": "https://localhost:8080/",
          "height": 615
        },
        "outputId": "11922d56-e9f6-45c6-b696-fa674bf12b93"
      },
      "source": [
        "#Load the dataset\n",
        "df = pd.read_csv(r'/content/drive/My Drive/SDL Lab 1 Twitter/twitter_sentiment.csv', encoding = 'latin1')\n",
        "df"
      ],
      "execution_count": null,
      "outputs": [
        {
          "output_type": "execute_result",
          "data": {
            "text/html": [
              "<div>\n",
              "<style scoped>\n",
              "    .dataframe tbody tr th:only-of-type {\n",
              "        vertical-align: middle;\n",
              "    }\n",
              "\n",
              "    .dataframe tbody tr th {\n",
              "        vertical-align: top;\n",
              "    }\n",
              "\n",
              "    .dataframe thead th {\n",
              "        text-align: right;\n",
              "    }\n",
              "</style>\n",
              "<table border=\"1\" class=\"dataframe\">\n",
              "  <thead>\n",
              "    <tr style=\"text-align: right;\">\n",
              "      <th></th>\n",
              "      <th>0</th>\n",
              "      <th>1467810369</th>\n",
              "      <th>Mon Apr 06 22:19:45 PDT 2009</th>\n",
              "      <th>NO_QUERY</th>\n",
              "      <th>_TheSpecialOne_</th>\n",
              "      <th>@switchfoot http://twitpic.com/2y1zl - Awww, that's a bummer.  You shoulda got David Carr of Third Day to do it. ;D</th>\n",
              "    </tr>\n",
              "  </thead>\n",
              "  <tbody>\n",
              "    <tr>\n",
              "      <th>0</th>\n",
              "      <td>0</td>\n",
              "      <td>1467810672</td>\n",
              "      <td>Mon Apr 06 22:19:49 PDT 2009</td>\n",
              "      <td>NO_QUERY</td>\n",
              "      <td>scotthamilton</td>\n",
              "      <td>is upset that he can't update his Facebook by ...</td>\n",
              "    </tr>\n",
              "    <tr>\n",
              "      <th>1</th>\n",
              "      <td>0</td>\n",
              "      <td>1467810917</td>\n",
              "      <td>Mon Apr 06 22:19:53 PDT 2009</td>\n",
              "      <td>NO_QUERY</td>\n",
              "      <td>mattycus</td>\n",
              "      <td>@Kenichan I dived many times for the ball. Man...</td>\n",
              "    </tr>\n",
              "    <tr>\n",
              "      <th>2</th>\n",
              "      <td>0</td>\n",
              "      <td>1467811184</td>\n",
              "      <td>Mon Apr 06 22:19:57 PDT 2009</td>\n",
              "      <td>NO_QUERY</td>\n",
              "      <td>ElleCTF</td>\n",
              "      <td>my whole body feels itchy and like its on fire</td>\n",
              "    </tr>\n",
              "    <tr>\n",
              "      <th>3</th>\n",
              "      <td>0</td>\n",
              "      <td>1467811193</td>\n",
              "      <td>Mon Apr 06 22:19:57 PDT 2009</td>\n",
              "      <td>NO_QUERY</td>\n",
              "      <td>Karoli</td>\n",
              "      <td>@nationwideclass no, it's not behaving at all....</td>\n",
              "    </tr>\n",
              "    <tr>\n",
              "      <th>4</th>\n",
              "      <td>0</td>\n",
              "      <td>1467811372</td>\n",
              "      <td>Mon Apr 06 22:20:00 PDT 2009</td>\n",
              "      <td>NO_QUERY</td>\n",
              "      <td>joy_wolf</td>\n",
              "      <td>@Kwesidei not the whole crew</td>\n",
              "    </tr>\n",
              "    <tr>\n",
              "      <th>...</th>\n",
              "      <td>...</td>\n",
              "      <td>...</td>\n",
              "      <td>...</td>\n",
              "      <td>...</td>\n",
              "      <td>...</td>\n",
              "      <td>...</td>\n",
              "    </tr>\n",
              "    <tr>\n",
              "      <th>1599994</th>\n",
              "      <td>4</td>\n",
              "      <td>2193601966</td>\n",
              "      <td>Tue Jun 16 08:40:49 PDT 2009</td>\n",
              "      <td>NO_QUERY</td>\n",
              "      <td>AmandaMarie1028</td>\n",
              "      <td>Just woke up. Having no school is the best fee...</td>\n",
              "    </tr>\n",
              "    <tr>\n",
              "      <th>1599995</th>\n",
              "      <td>4</td>\n",
              "      <td>2193601969</td>\n",
              "      <td>Tue Jun 16 08:40:49 PDT 2009</td>\n",
              "      <td>NO_QUERY</td>\n",
              "      <td>TheWDBoards</td>\n",
              "      <td>TheWDB.com - Very cool to hear old Walt interv...</td>\n",
              "    </tr>\n",
              "    <tr>\n",
              "      <th>1599996</th>\n",
              "      <td>4</td>\n",
              "      <td>2193601991</td>\n",
              "      <td>Tue Jun 16 08:40:49 PDT 2009</td>\n",
              "      <td>NO_QUERY</td>\n",
              "      <td>bpbabe</td>\n",
              "      <td>Are you ready for your MoJo Makeover? Ask me f...</td>\n",
              "    </tr>\n",
              "    <tr>\n",
              "      <th>1599997</th>\n",
              "      <td>4</td>\n",
              "      <td>2193602064</td>\n",
              "      <td>Tue Jun 16 08:40:49 PDT 2009</td>\n",
              "      <td>NO_QUERY</td>\n",
              "      <td>tinydiamondz</td>\n",
              "      <td>Happy 38th Birthday to my boo of alll time!!! ...</td>\n",
              "    </tr>\n",
              "    <tr>\n",
              "      <th>1599998</th>\n",
              "      <td>4</td>\n",
              "      <td>2193602129</td>\n",
              "      <td>Tue Jun 16 08:40:50 PDT 2009</td>\n",
              "      <td>NO_QUERY</td>\n",
              "      <td>RyanTrevMorris</td>\n",
              "      <td>happy #charitytuesday @theNSPCC @SparksCharity...</td>\n",
              "    </tr>\n",
              "  </tbody>\n",
              "</table>\n",
              "<p>1599999 rows × 6 columns</p>\n",
              "</div>"
            ],
            "text/plain": [
              "         0  ...  @switchfoot http://twitpic.com/2y1zl - Awww, that's a bummer.  You shoulda got David Carr of Third Day to do it. ;D\n",
              "0        0  ...  is upset that he can't update his Facebook by ...                                                                  \n",
              "1        0  ...  @Kenichan I dived many times for the ball. Man...                                                                  \n",
              "2        0  ...    my whole body feels itchy and like its on fire                                                                   \n",
              "3        0  ...  @nationwideclass no, it's not behaving at all....                                                                  \n",
              "4        0  ...                      @Kwesidei not the whole crew                                                                   \n",
              "...     ..  ...                                                ...                                                                  \n",
              "1599994  4  ...  Just woke up. Having no school is the best fee...                                                                  \n",
              "1599995  4  ...  TheWDB.com - Very cool to hear old Walt interv...                                                                  \n",
              "1599996  4  ...  Are you ready for your MoJo Makeover? Ask me f...                                                                  \n",
              "1599997  4  ...  Happy 38th Birthday to my boo of alll time!!! ...                                                                  \n",
              "1599998  4  ...  happy #charitytuesday @theNSPCC @SparksCharity...                                                                  \n",
              "\n",
              "[1599999 rows x 6 columns]"
            ]
          },
          "metadata": {
            "tags": []
          },
          "execution_count": 5
        }
      ]
    },
    {
      "cell_type": "code",
      "metadata": {
        "id": "ELEvFYBPck98"
      },
      "source": [
        "df.rename(columns={\"0\": 'sentiment' ,\"@switchfoot http://twitpic.com/2y1zl - Awww, that's a bummer.  You shoulda got David Carr of Third Day to do it. ;D\": \"tweet\"}, inplace = True)"
      ],
      "execution_count": null,
      "outputs": []
    },
    {
      "cell_type": "code",
      "metadata": {
        "id": "od0Fos16dwXT"
      },
      "source": [
        "df = df[['sentiment','tweet']]"
      ],
      "execution_count": null,
      "outputs": []
    },
    {
      "cell_type": "code",
      "metadata": {
        "colab": {
          "base_uri": "https://localhost:8080/",
          "height": 424
        },
        "id": "L8TSO75mdYSN",
        "outputId": "0e8a8313-83ca-4744-b49c-be0b4988358f"
      },
      "source": [
        "df"
      ],
      "execution_count": null,
      "outputs": [
        {
          "output_type": "execute_result",
          "data": {
            "text/html": [
              "<div>\n",
              "<style scoped>\n",
              "    .dataframe tbody tr th:only-of-type {\n",
              "        vertical-align: middle;\n",
              "    }\n",
              "\n",
              "    .dataframe tbody tr th {\n",
              "        vertical-align: top;\n",
              "    }\n",
              "\n",
              "    .dataframe thead th {\n",
              "        text-align: right;\n",
              "    }\n",
              "</style>\n",
              "<table border=\"1\" class=\"dataframe\">\n",
              "  <thead>\n",
              "    <tr style=\"text-align: right;\">\n",
              "      <th></th>\n",
              "      <th>sentiment</th>\n",
              "      <th>tweet</th>\n",
              "    </tr>\n",
              "  </thead>\n",
              "  <tbody>\n",
              "    <tr>\n",
              "      <th>0</th>\n",
              "      <td>0</td>\n",
              "      <td>is upset that he can't update his Facebook by ...</td>\n",
              "    </tr>\n",
              "    <tr>\n",
              "      <th>1</th>\n",
              "      <td>0</td>\n",
              "      <td>@Kenichan I dived many times for the ball. Man...</td>\n",
              "    </tr>\n",
              "    <tr>\n",
              "      <th>2</th>\n",
              "      <td>0</td>\n",
              "      <td>my whole body feels itchy and like its on fire</td>\n",
              "    </tr>\n",
              "    <tr>\n",
              "      <th>3</th>\n",
              "      <td>0</td>\n",
              "      <td>@nationwideclass no, it's not behaving at all....</td>\n",
              "    </tr>\n",
              "    <tr>\n",
              "      <th>4</th>\n",
              "      <td>0</td>\n",
              "      <td>@Kwesidei not the whole crew</td>\n",
              "    </tr>\n",
              "    <tr>\n",
              "      <th>...</th>\n",
              "      <td>...</td>\n",
              "      <td>...</td>\n",
              "    </tr>\n",
              "    <tr>\n",
              "      <th>1599994</th>\n",
              "      <td>4</td>\n",
              "      <td>Just woke up. Having no school is the best fee...</td>\n",
              "    </tr>\n",
              "    <tr>\n",
              "      <th>1599995</th>\n",
              "      <td>4</td>\n",
              "      <td>TheWDB.com - Very cool to hear old Walt interv...</td>\n",
              "    </tr>\n",
              "    <tr>\n",
              "      <th>1599996</th>\n",
              "      <td>4</td>\n",
              "      <td>Are you ready for your MoJo Makeover? Ask me f...</td>\n",
              "    </tr>\n",
              "    <tr>\n",
              "      <th>1599997</th>\n",
              "      <td>4</td>\n",
              "      <td>Happy 38th Birthday to my boo of alll time!!! ...</td>\n",
              "    </tr>\n",
              "    <tr>\n",
              "      <th>1599998</th>\n",
              "      <td>4</td>\n",
              "      <td>happy #charitytuesday @theNSPCC @SparksCharity...</td>\n",
              "    </tr>\n",
              "  </tbody>\n",
              "</table>\n",
              "<p>1599999 rows × 2 columns</p>\n",
              "</div>"
            ],
            "text/plain": [
              "         sentiment                                              tweet\n",
              "0                0  is upset that he can't update his Facebook by ...\n",
              "1                0  @Kenichan I dived many times for the ball. Man...\n",
              "2                0    my whole body feels itchy and like its on fire \n",
              "3                0  @nationwideclass no, it's not behaving at all....\n",
              "4                0                      @Kwesidei not the whole crew \n",
              "...            ...                                                ...\n",
              "1599994          4  Just woke up. Having no school is the best fee...\n",
              "1599995          4  TheWDB.com - Very cool to hear old Walt interv...\n",
              "1599996          4  Are you ready for your MoJo Makeover? Ask me f...\n",
              "1599997          4  Happy 38th Birthday to my boo of alll time!!! ...\n",
              "1599998          4  happy #charitytuesday @theNSPCC @SparksCharity...\n",
              "\n",
              "[1599999 rows x 2 columns]"
            ]
          },
          "metadata": {
            "tags": []
          },
          "execution_count": 8
        }
      ]
    },
    {
      "cell_type": "code",
      "metadata": {
        "id": "ZtxLnAdbt7aM",
        "colab": {
          "base_uri": "https://localhost:8080/"
        },
        "outputId": "47076d27-74e9-40fa-d324-13d6b42e8f93"
      },
      "source": [
        "df.info() #All non NULL values in both columns"
      ],
      "execution_count": null,
      "outputs": [
        {
          "output_type": "stream",
          "text": [
            "<class 'pandas.core.frame.DataFrame'>\n",
            "RangeIndex: 1599999 entries, 0 to 1599998\n",
            "Data columns (total 2 columns):\n",
            " #   Column     Non-Null Count    Dtype \n",
            "---  ------     --------------    ----- \n",
            " 0   sentiment  1599999 non-null  int64 \n",
            " 1   tweet      1599999 non-null  object\n",
            "dtypes: int64(1), object(1)\n",
            "memory usage: 24.4+ MB\n"
          ],
          "name": "stdout"
        }
      ]
    },
    {
      "cell_type": "code",
      "metadata": {
        "id": "LDKSKw-pAjGP",
        "colab": {
          "base_uri": "https://localhost:8080/"
        },
        "outputId": "aee9fc09-a627-4d58-bffd-40be48b5e510"
      },
      "source": [
        "df.sentiment.value_counts() #Sentiments need to be converted to 1 for positive, 0 for -ve"
      ],
      "execution_count": null,
      "outputs": [
        {
          "output_type": "execute_result",
          "data": {
            "text/plain": [
              "4    800000\n",
              "0    799999\n",
              "Name: sentiment, dtype: int64"
            ]
          },
          "metadata": {
            "tags": []
          },
          "execution_count": 8
        }
      ]
    },
    {
      "cell_type": "code",
      "metadata": {
        "id": "bboX2GJpCS-S",
        "colab": {
          "base_uri": "https://localhost:8080/",
          "height": 516
        },
        "outputId": "105e280b-8f26-43cf-cc78-3c01c6be60fc"
      },
      "source": [
        "def clean_data(text):\n",
        "  #text = re.sub(r'', '', text) #Removes Html tag\n",
        "  text = re.sub(r'[^\\ a-zA-Z0-9]+', '', text)  #Removes non alphanumeric\n",
        "  text = re.sub(r'^\\s*|\\s\\s*', ' ', text).strip() #Removes extra whitespace, tabs\n",
        "  stop_words = set(stopwords.words('english')) \n",
        "  lemmatizer = WordNetLemmatizer()\n",
        "  text = text.lower().split() #Converts text to lowercase\n",
        "  cleaned_text = list()\n",
        "  for word in text:        \n",
        "    if word in stop_words:    #Removes Stopwords, i.e words that don't convey any meaningful context/sentiments\n",
        "      continue    \n",
        "    word = lemmatizer.lemmatize(word, pos = 'v')    #Lemmatize words, pos = verbs, i.e playing, played becomes play\n",
        "    cleaned_text.append(word)\n",
        "  text = ' '.join(cleaned_text)\n",
        "  return text\n",
        "\n",
        "df['cleaned_tweet'] = df['tweet'].apply(lambda x: clean_data(x))\n",
        "df"
      ],
      "execution_count": null,
      "outputs": [
        {
          "output_type": "stream",
          "text": [
            "/usr/local/lib/python3.7/dist-packages/ipykernel_launcher.py:17: SettingWithCopyWarning: \n",
            "A value is trying to be set on a copy of a slice from a DataFrame.\n",
            "Try using .loc[row_indexer,col_indexer] = value instead\n",
            "\n",
            "See the caveats in the documentation: https://pandas.pydata.org/pandas-docs/stable/user_guide/indexing.html#returning-a-view-versus-a-copy\n"
          ],
          "name": "stderr"
        },
        {
          "output_type": "execute_result",
          "data": {
            "text/html": [
              "<div>\n",
              "<style scoped>\n",
              "    .dataframe tbody tr th:only-of-type {\n",
              "        vertical-align: middle;\n",
              "    }\n",
              "\n",
              "    .dataframe tbody tr th {\n",
              "        vertical-align: top;\n",
              "    }\n",
              "\n",
              "    .dataframe thead th {\n",
              "        text-align: right;\n",
              "    }\n",
              "</style>\n",
              "<table border=\"1\" class=\"dataframe\">\n",
              "  <thead>\n",
              "    <tr style=\"text-align: right;\">\n",
              "      <th></th>\n",
              "      <th>sentiment</th>\n",
              "      <th>tweet</th>\n",
              "      <th>cleaned_tweet</th>\n",
              "    </tr>\n",
              "  </thead>\n",
              "  <tbody>\n",
              "    <tr>\n",
              "      <th>0</th>\n",
              "      <td>0</td>\n",
              "      <td>is upset that he can't update his Facebook by ...</td>\n",
              "      <td>upset cant update facebook texting might cry r...</td>\n",
              "    </tr>\n",
              "    <tr>\n",
              "      <th>1</th>\n",
              "      <td>0</td>\n",
              "      <td>@Kenichan I dived many times for the ball. Man...</td>\n",
              "      <td>kenichan dive many time ball manage save 50 re...</td>\n",
              "    </tr>\n",
              "    <tr>\n",
              "      <th>2</th>\n",
              "      <td>0</td>\n",
              "      <td>my whole body feels itchy and like its on fire</td>\n",
              "      <td>whole body feel itchy like fire</td>\n",
              "    </tr>\n",
              "    <tr>\n",
              "      <th>3</th>\n",
              "      <td>0</td>\n",
              "      <td>@nationwideclass no, it's not behaving at all....</td>\n",
              "      <td>nationwideclass behave im mad cant see</td>\n",
              "    </tr>\n",
              "    <tr>\n",
              "      <th>4</th>\n",
              "      <td>0</td>\n",
              "      <td>@Kwesidei not the whole crew</td>\n",
              "      <td>kwesidei whole crew</td>\n",
              "    </tr>\n",
              "    <tr>\n",
              "      <th>...</th>\n",
              "      <td>...</td>\n",
              "      <td>...</td>\n",
              "      <td>...</td>\n",
              "    </tr>\n",
              "    <tr>\n",
              "      <th>1599994</th>\n",
              "      <td>4</td>\n",
              "      <td>Just woke up. Having no school is the best fee...</td>\n",
              "      <td>wake school best feel ever</td>\n",
              "    </tr>\n",
              "    <tr>\n",
              "      <th>1599995</th>\n",
              "      <td>4</td>\n",
              "      <td>TheWDB.com - Very cool to hear old Walt interv...</td>\n",
              "      <td>thewdbcom cool hear old walt interview httpbli...</td>\n",
              "    </tr>\n",
              "    <tr>\n",
              "      <th>1599996</th>\n",
              "      <td>4</td>\n",
              "      <td>Are you ready for your MoJo Makeover? Ask me f...</td>\n",
              "      <td>ready mojo makeover ask detail</td>\n",
              "    </tr>\n",
              "    <tr>\n",
              "      <th>1599997</th>\n",
              "      <td>4</td>\n",
              "      <td>Happy 38th Birthday to my boo of alll time!!! ...</td>\n",
              "      <td>happy 38th birthday boo alll time tupac amaru ...</td>\n",
              "    </tr>\n",
              "    <tr>\n",
              "      <th>1599998</th>\n",
              "      <td>4</td>\n",
              "      <td>happy #charitytuesday @theNSPCC @SparksCharity...</td>\n",
              "      <td>happy charitytuesday thenspcc sparkscharity sp...</td>\n",
              "    </tr>\n",
              "  </tbody>\n",
              "</table>\n",
              "<p>1599999 rows × 3 columns</p>\n",
              "</div>"
            ],
            "text/plain": [
              "         sentiment  ...                                      cleaned_tweet\n",
              "0                0  ...  upset cant update facebook texting might cry r...\n",
              "1                0  ...  kenichan dive many time ball manage save 50 re...\n",
              "2                0  ...                    whole body feel itchy like fire\n",
              "3                0  ...             nationwideclass behave im mad cant see\n",
              "4                0  ...                                kwesidei whole crew\n",
              "...            ...  ...                                                ...\n",
              "1599994          4  ...                         wake school best feel ever\n",
              "1599995          4  ...  thewdbcom cool hear old walt interview httpbli...\n",
              "1599996          4  ...                     ready mojo makeover ask detail\n",
              "1599997          4  ...  happy 38th birthday boo alll time tupac amaru ...\n",
              "1599998          4  ...  happy charitytuesday thenspcc sparkscharity sp...\n",
              "\n",
              "[1599999 rows x 3 columns]"
            ]
          },
          "metadata": {
            "tags": []
          },
          "execution_count": 9
        }
      ]
    },
    {
      "cell_type": "code",
      "metadata": {
        "colab": {
          "base_uri": "https://localhost:8080/",
          "height": 516
        },
        "id": "s6HyGp4-T8Y-",
        "outputId": "c6fa118a-c600-4cd8-e013-86e72145550d"
      },
      "source": [
        "df[\"sentiment\"].replace({4: 1}, inplace=True)\n",
        "df"
      ],
      "execution_count": null,
      "outputs": [
        {
          "output_type": "stream",
          "text": [
            "/usr/local/lib/python3.7/dist-packages/pandas/core/series.py:4582: SettingWithCopyWarning: \n",
            "A value is trying to be set on a copy of a slice from a DataFrame\n",
            "\n",
            "See the caveats in the documentation: https://pandas.pydata.org/pandas-docs/stable/user_guide/indexing.html#returning-a-view-versus-a-copy\n",
            "  method=method,\n"
          ],
          "name": "stderr"
        },
        {
          "output_type": "execute_result",
          "data": {
            "text/html": [
              "<div>\n",
              "<style scoped>\n",
              "    .dataframe tbody tr th:only-of-type {\n",
              "        vertical-align: middle;\n",
              "    }\n",
              "\n",
              "    .dataframe tbody tr th {\n",
              "        vertical-align: top;\n",
              "    }\n",
              "\n",
              "    .dataframe thead th {\n",
              "        text-align: right;\n",
              "    }\n",
              "</style>\n",
              "<table border=\"1\" class=\"dataframe\">\n",
              "  <thead>\n",
              "    <tr style=\"text-align: right;\">\n",
              "      <th></th>\n",
              "      <th>sentiment</th>\n",
              "      <th>tweet</th>\n",
              "      <th>cleaned_tweet</th>\n",
              "    </tr>\n",
              "  </thead>\n",
              "  <tbody>\n",
              "    <tr>\n",
              "      <th>0</th>\n",
              "      <td>0</td>\n",
              "      <td>is upset that he can't update his Facebook by ...</td>\n",
              "      <td>upset cant update facebook texting might cry r...</td>\n",
              "    </tr>\n",
              "    <tr>\n",
              "      <th>1</th>\n",
              "      <td>0</td>\n",
              "      <td>@Kenichan I dived many times for the ball. Man...</td>\n",
              "      <td>kenichan dive many time ball manage save 50 re...</td>\n",
              "    </tr>\n",
              "    <tr>\n",
              "      <th>2</th>\n",
              "      <td>0</td>\n",
              "      <td>my whole body feels itchy and like its on fire</td>\n",
              "      <td>whole body feel itchy like fire</td>\n",
              "    </tr>\n",
              "    <tr>\n",
              "      <th>3</th>\n",
              "      <td>0</td>\n",
              "      <td>@nationwideclass no, it's not behaving at all....</td>\n",
              "      <td>nationwideclass behave im mad cant see</td>\n",
              "    </tr>\n",
              "    <tr>\n",
              "      <th>4</th>\n",
              "      <td>0</td>\n",
              "      <td>@Kwesidei not the whole crew</td>\n",
              "      <td>kwesidei whole crew</td>\n",
              "    </tr>\n",
              "    <tr>\n",
              "      <th>...</th>\n",
              "      <td>...</td>\n",
              "      <td>...</td>\n",
              "      <td>...</td>\n",
              "    </tr>\n",
              "    <tr>\n",
              "      <th>1599994</th>\n",
              "      <td>1</td>\n",
              "      <td>Just woke up. Having no school is the best fee...</td>\n",
              "      <td>wake school best feel ever</td>\n",
              "    </tr>\n",
              "    <tr>\n",
              "      <th>1599995</th>\n",
              "      <td>1</td>\n",
              "      <td>TheWDB.com - Very cool to hear old Walt interv...</td>\n",
              "      <td>thewdbcom cool hear old walt interview httpbli...</td>\n",
              "    </tr>\n",
              "    <tr>\n",
              "      <th>1599996</th>\n",
              "      <td>1</td>\n",
              "      <td>Are you ready for your MoJo Makeover? Ask me f...</td>\n",
              "      <td>ready mojo makeover ask detail</td>\n",
              "    </tr>\n",
              "    <tr>\n",
              "      <th>1599997</th>\n",
              "      <td>1</td>\n",
              "      <td>Happy 38th Birthday to my boo of alll time!!! ...</td>\n",
              "      <td>happy 38th birthday boo alll time tupac amaru ...</td>\n",
              "    </tr>\n",
              "    <tr>\n",
              "      <th>1599998</th>\n",
              "      <td>1</td>\n",
              "      <td>happy #charitytuesday @theNSPCC @SparksCharity...</td>\n",
              "      <td>happy charitytuesday thenspcc sparkscharity sp...</td>\n",
              "    </tr>\n",
              "  </tbody>\n",
              "</table>\n",
              "<p>1599999 rows × 3 columns</p>\n",
              "</div>"
            ],
            "text/plain": [
              "         sentiment  ...                                      cleaned_tweet\n",
              "0                0  ...  upset cant update facebook texting might cry r...\n",
              "1                0  ...  kenichan dive many time ball manage save 50 re...\n",
              "2                0  ...                    whole body feel itchy like fire\n",
              "3                0  ...             nationwideclass behave im mad cant see\n",
              "4                0  ...                                kwesidei whole crew\n",
              "...            ...  ...                                                ...\n",
              "1599994          1  ...                         wake school best feel ever\n",
              "1599995          1  ...  thewdbcom cool hear old walt interview httpbli...\n",
              "1599996          1  ...                     ready mojo makeover ask detail\n",
              "1599997          1  ...  happy 38th birthday boo alll time tupac amaru ...\n",
              "1599998          1  ...  happy charitytuesday thenspcc sparkscharity sp...\n",
              "\n",
              "[1599999 rows x 3 columns]"
            ]
          },
          "metadata": {
            "tags": []
          },
          "execution_count": 10
        }
      ]
    },
    {
      "cell_type": "code",
      "metadata": {
        "id": "t1aK5n7lxQq7",
        "colab": {
          "base_uri": "https://localhost:8080/"
        },
        "outputId": "6d592f7b-d941-47ed-f993-cc13d8467ad3"
      },
      "source": [
        "result = [len(x) for x in [df['cleaned_tweet'].iloc[i].split() for i in range(100000)]]\n",
        "np.mean(result) #Mean no of words in each cleaned tweet "
      ],
      "execution_count": null,
      "outputs": [
        {
          "output_type": "execute_result",
          "data": {
            "text/plain": [
              "7.81032"
            ]
          },
          "metadata": {
            "tags": []
          },
          "execution_count": 11
        }
      ]
    },
    {
      "cell_type": "code",
      "metadata": {
        "colab": {
          "base_uri": "https://localhost:8080/",
          "height": 424
        },
        "id": "7dO_RnpfeVKr",
        "outputId": "d9378b51-0c3e-46f4-978f-bd8e3b71f18b"
      },
      "source": [
        "df = df.sample(frac=1).reset_index(drop=True) #Shuffle tweets\n",
        "df"
      ],
      "execution_count": null,
      "outputs": [
        {
          "output_type": "execute_result",
          "data": {
            "text/html": [
              "<div>\n",
              "<style scoped>\n",
              "    .dataframe tbody tr th:only-of-type {\n",
              "        vertical-align: middle;\n",
              "    }\n",
              "\n",
              "    .dataframe tbody tr th {\n",
              "        vertical-align: top;\n",
              "    }\n",
              "\n",
              "    .dataframe thead th {\n",
              "        text-align: right;\n",
              "    }\n",
              "</style>\n",
              "<table border=\"1\" class=\"dataframe\">\n",
              "  <thead>\n",
              "    <tr style=\"text-align: right;\">\n",
              "      <th></th>\n",
              "      <th>sentiment</th>\n",
              "      <th>tweet</th>\n",
              "      <th>cleaned_tweet</th>\n",
              "    </tr>\n",
              "  </thead>\n",
              "  <tbody>\n",
              "    <tr>\n",
              "      <th>0</th>\n",
              "      <td>1</td>\n",
              "      <td>@DebBee80 There I did it, now watch me get no ...</td>\n",
              "      <td>debbee80 watch get response like moron thank</td>\n",
              "    </tr>\n",
              "    <tr>\n",
              "      <th>1</th>\n",
              "      <td>0</td>\n",
              "      <td>wants to go riding. i miss sparky</td>\n",
              "      <td>want go rid miss sparky</td>\n",
              "    </tr>\n",
              "    <tr>\n",
              "      <th>2</th>\n",
              "      <td>0</td>\n",
              "      <td>No bed or sofa to crash</td>\n",
              "      <td>bed sofa crash</td>\n",
              "    </tr>\n",
              "    <tr>\n",
              "      <th>3</th>\n",
              "      <td>0</td>\n",
              "      <td>My grandpa is doing so good but he's also depr...</td>\n",
              "      <td>grandpa good hes also depress wish hed hurry g...</td>\n",
              "    </tr>\n",
              "    <tr>\n",
              "      <th>4</th>\n",
              "      <td>0</td>\n",
              "      <td>Season Finale next week  NOOO im so going to m...</td>\n",
              "      <td>season finale next week nooo im go miss 90210 ...</td>\n",
              "    </tr>\n",
              "    <tr>\n",
              "      <th>...</th>\n",
              "      <td>...</td>\n",
              "      <td>...</td>\n",
              "      <td>...</td>\n",
              "    </tr>\n",
              "    <tr>\n",
              "      <th>1599994</th>\n",
              "      <td>0</td>\n",
              "      <td>@svanelli Are there any new cool games for the...</td>\n",
              "      <td>svanelli new cool game wii havent play wii age</td>\n",
              "    </tr>\n",
              "    <tr>\n",
              "      <th>1599995</th>\n",
              "      <td>1</td>\n",
              "      <td>@WillT1971 lucky ducky!  I wish her well in la...</td>\n",
              "      <td>willt1971 lucky ducky wish well labor</td>\n",
              "    </tr>\n",
              "    <tr>\n",
              "      <th>1599996</th>\n",
              "      <td>1</td>\n",
              "      <td>@ArvindRocks Dude u know.. Then Sat will be a ...</td>\n",
              "      <td>arvindrocks dude u know sit compensation anywa...</td>\n",
              "    </tr>\n",
              "    <tr>\n",
              "      <th>1599997</th>\n",
              "      <td>1</td>\n",
              "      <td>got officially fed up with the total chill kno...</td>\n",
              "      <td>get officially feed total chill know summer br...</td>\n",
              "    </tr>\n",
              "    <tr>\n",
              "      <th>1599998</th>\n",
              "      <td>1</td>\n",
              "      <td>@zhaoyongz thanks for joining my ring  MNL = M...</td>\n",
              "      <td>zhaoyongz thank join ring mnl manila philippines</td>\n",
              "    </tr>\n",
              "  </tbody>\n",
              "</table>\n",
              "<p>1599999 rows × 3 columns</p>\n",
              "</div>"
            ],
            "text/plain": [
              "         sentiment  ...                                      cleaned_tweet\n",
              "0                1  ...       debbee80 watch get response like moron thank\n",
              "1                0  ...                            want go rid miss sparky\n",
              "2                0  ...                                     bed sofa crash\n",
              "3                0  ...  grandpa good hes also depress wish hed hurry g...\n",
              "4                0  ...  season finale next week nooo im go miss 90210 ...\n",
              "...            ...  ...                                                ...\n",
              "1599994          0  ...     svanelli new cool game wii havent play wii age\n",
              "1599995          1  ...              willt1971 lucky ducky wish well labor\n",
              "1599996          1  ...  arvindrocks dude u know sit compensation anywa...\n",
              "1599997          1  ...  get officially feed total chill know summer br...\n",
              "1599998          1  ...   zhaoyongz thank join ring mnl manila philippines\n",
              "\n",
              "[1599999 rows x 3 columns]"
            ]
          },
          "metadata": {
            "tags": []
          },
          "execution_count": 12
        }
      ]
    },
    {
      "cell_type": "code",
      "metadata": {
        "id": "39ekxvgaxh0s"
      },
      "source": [
        "X_train = [text for text in list(df['tweet'].iloc[:70000])] #Preparation of X,Y\n",
        "X_test = [text for text in list(df['tweet'].iloc[70000:100000])]\n",
        "Y_train = [text for text in list(df['sentiment'].iloc[:70000])]\n",
        "Y_test = [text for text in list(df['sentiment'].iloc[70000:100000])]"
      ],
      "execution_count": null,
      "outputs": []
    },
    {
      "cell_type": "code",
      "metadata": {
        "id": "sgQ365Lz4esH",
        "colab": {
          "base_uri": "https://localhost:8080/"
        },
        "outputId": "05082d7e-e67c-4bef-ac8e-48cac1048160"
      },
      "source": [
        "print(len(np.unique(np.hstack(X_train)))) #No of unique words in cleaned tweet"
      ],
      "execution_count": null,
      "outputs": [
        {
          "output_type": "stream",
          "text": [
            "69833\n"
          ],
          "name": "stdout"
        }
      ]
    },
    {
      "cell_type": "markdown",
      "metadata": {
        "id": "GUlFIwudaNqL"
      },
      "source": [
        "Tokenize and padding"
      ]
    },
    {
      "cell_type": "code",
      "metadata": {
        "id": "DXKVpsotGqS4"
      },
      "source": [
        "X = [text for text in list(df['tweet'])]\n",
        "max_vocab = 10000  #Max features\n",
        "max_sent_length = 280  #Max word length of every review\n",
        "tokenizer = Tokenizer(num_words = max_vocab)\n",
        "tokenizer.fit_on_texts(X)\n",
        "X_train_tokenized = pad_sequences(tokenizer.texts_to_sequences(X_train), maxlen = max_sent_length) #Tokenization, i.e converting words to int\n",
        "X_test_tokenized = pad_sequences(tokenizer.texts_to_sequences(X_test), maxlen = max_sent_length)"
      ],
      "execution_count": null,
      "outputs": []
    },
    {
      "cell_type": "markdown",
      "metadata": {
        "id": "PIPjgZYTaL0h"
      },
      "source": [
        "Model fitting, evaluation"
      ]
    },
    {
      "cell_type": "code",
      "metadata": {
        "id": "vBIBazdlWdaf",
        "colab": {
          "base_uri": "https://localhost:8080/"
        },
        "outputId": "92100d90-b753-4770-d538-f6848ed28bb8"
      },
      "source": [
        "def lr_scheduler(epoch, lr):      #For tuning the learning rate\n",
        "    if epoch > 3:\n",
        "        lr = 0.0001\n",
        "        return lr\n",
        "    return lr\n",
        "model = Sequential()  #Sequential layers  \n",
        "model.add(Embedding(max_vocab, 500, input_length = max_sent_length)) #Embedding layer\n",
        "model.add(Bidirectional(LSTM(60, return_sequences = True, dropout = 0.2))) #BiLSTM\n",
        "model.add(Convolution1D(32, 3, padding = 'valid', activation = 'relu'))  # 1D Conv\n",
        "model.add(GlobalMaxPool1D())\n",
        "model.add(Dropout(0.6))     #High dropout to reduce overfitting\n",
        "model.add(Dense(40, activation = 'relu'))\n",
        "model.add(Dropout(0.3))\n",
        "model.add(Dense(1, activation =  'sigmoid'))\n",
        "optimizer = keras.optimizers.Adam(lr=0.01)\n",
        "model.compile(loss = 'binary_crossentropy', optimizer = optimizer, metrics = ['accuracy'])  #Adam gave better results than SGD\n",
        "print(model.summary())\n",
        "batch_size = 64\n",
        "epochs = 20\n",
        "#callbacks = [keras.callbacks.LearningRateScheduler(lr_scheduler, verbose=1)]\n",
        "hist = model.fit(X_train_tokenized, np.array(Y_train), batch_size = batch_size, epochs = epochs, verbose = 1,  validation_data = (X_test_tokenized, np.array(Y_test))) #,  callbacks = callbacks"
      ],
      "execution_count": null,
      "outputs": [
        {
          "output_type": "stream",
          "text": [
            "Model: \"sequential\"\n",
            "_________________________________________________________________\n",
            "Layer (type)                 Output Shape              Param #   \n",
            "=================================================================\n",
            "embedding (Embedding)        (None, 280, 500)          5000000   \n",
            "_________________________________________________________________\n",
            "bidirectional (Bidirectional (None, 280, 120)          269280    \n",
            "_________________________________________________________________\n",
            "conv1d (Conv1D)              (None, 278, 32)           11552     \n",
            "_________________________________________________________________\n",
            "global_max_pooling1d (Global (None, 32)                0         \n",
            "_________________________________________________________________\n",
            "dropout (Dropout)            (None, 32)                0         \n",
            "_________________________________________________________________\n",
            "dense (Dense)                (None, 40)                1320      \n",
            "_________________________________________________________________\n",
            "dropout_1 (Dropout)          (None, 40)                0         \n",
            "_________________________________________________________________\n",
            "dense_1 (Dense)              (None, 1)                 41        \n",
            "=================================================================\n",
            "Total params: 5,282,193\n",
            "Trainable params: 5,282,193\n",
            "Non-trainable params: 0\n",
            "_________________________________________________________________\n",
            "None\n",
            "Epoch 1/20\n",
            "1094/1094 [==============================] - 144s 100ms/step - loss: 0.6148 - accuracy: 0.6519 - val_loss: 0.5541 - val_accuracy: 0.7356\n",
            "Epoch 2/20\n",
            "1094/1094 [==============================] - 108s 99ms/step - loss: 0.5020 - accuracy: 0.7671 - val_loss: 0.5142 - val_accuracy: 0.7403\n",
            "Epoch 3/20\n",
            "1094/1094 [==============================] - 109s 99ms/step - loss: 0.4842 - accuracy: 0.7793 - val_loss: 0.5175 - val_accuracy: 0.7314\n",
            "Epoch 4/20\n",
            "1094/1094 [==============================] - 106s 97ms/step - loss: 0.4719 - accuracy: 0.7829 - val_loss: 0.4954 - val_accuracy: 0.7548\n",
            "Epoch 5/20\n",
            "1094/1094 [==============================] - 106s 97ms/step - loss: 0.4620 - accuracy: 0.7893 - val_loss: 0.5120 - val_accuracy: 0.7531\n",
            "Epoch 6/20\n",
            "1094/1094 [==============================] - 105s 96ms/step - loss: 0.4576 - accuracy: 0.7898 - val_loss: 0.5213 - val_accuracy: 0.7445\n",
            "Epoch 7/20\n",
            "1094/1094 [==============================] - 105s 96ms/step - loss: 0.4567 - accuracy: 0.7907 - val_loss: 0.5051 - val_accuracy: 0.7546\n",
            "Epoch 8/20\n",
            "1094/1094 [==============================] - 105s 96ms/step - loss: 0.4496 - accuracy: 0.7949 - val_loss: 0.5142 - val_accuracy: 0.7639\n",
            "Epoch 9/20\n",
            "1094/1094 [==============================] - 106s 97ms/step - loss: 0.4442 - accuracy: 0.7998 - val_loss: 0.5402 - val_accuracy: 0.7517\n",
            "Epoch 10/20\n",
            "1094/1094 [==============================] - 105s 96ms/step - loss: 0.4457 - accuracy: 0.7959 - val_loss: 0.5160 - val_accuracy: 0.7639\n",
            "Epoch 11/20\n",
            "1094/1094 [==============================] - 105s 96ms/step - loss: 0.4493 - accuracy: 0.7963 - val_loss: 0.5208 - val_accuracy: 0.7610\n",
            "Epoch 12/20\n",
            "1094/1094 [==============================] - 106s 97ms/step - loss: 0.4484 - accuracy: 0.7967 - val_loss: 0.5245 - val_accuracy: 0.7585\n",
            "Epoch 13/20\n",
            "1094/1094 [==============================] - 106s 97ms/step - loss: 0.4440 - accuracy: 0.8015 - val_loss: 0.5132 - val_accuracy: 0.7478\n",
            "Epoch 14/20\n",
            "1094/1094 [==============================] - 105s 96ms/step - loss: 0.4402 - accuracy: 0.8025 - val_loss: 0.5351 - val_accuracy: 0.7575\n",
            "Epoch 15/20\n",
            "1094/1094 [==============================] - 105s 96ms/step - loss: 0.4341 - accuracy: 0.8069 - val_loss: 0.5348 - val_accuracy: 0.7516\n",
            "Epoch 16/20\n",
            "1094/1094 [==============================] - 105s 96ms/step - loss: 0.4375 - accuracy: 0.8022 - val_loss: 0.5176 - val_accuracy: 0.7571\n",
            "Epoch 17/20\n",
            "1094/1094 [==============================] - 105s 96ms/step - loss: 0.4426 - accuracy: 0.7993 - val_loss: 0.5435 - val_accuracy: 0.7574\n",
            "Epoch 18/20\n",
            "1094/1094 [==============================] - 105s 96ms/step - loss: 0.4370 - accuracy: 0.8075 - val_loss: 0.5990 - val_accuracy: 0.7596\n",
            "Epoch 19/20\n",
            "1094/1094 [==============================] - 105s 96ms/step - loss: 0.4342 - accuracy: 0.8061 - val_loss: 0.5211 - val_accuracy: 0.7525\n",
            "Epoch 20/20\n",
            "1094/1094 [==============================] - 104s 95ms/step - loss: 0.4349 - accuracy: 0.8073 - val_loss: 0.5279 - val_accuracy: 0.7571\n"
          ],
          "name": "stdout"
        }
      ]
    },
    {
      "cell_type": "code",
      "metadata": {
        "id": "WXpBWvdqFEQk",
        "colab": {
          "base_uri": "https://localhost:8080/"
        },
        "outputId": "4ff55c0f-3929-4817-e0f9-08585b57959a"
      },
      "source": [
        "model.evaluate(X_test_tokenized, np.array(Y_test))"
      ],
      "execution_count": null,
      "outputs": [
        {
          "output_type": "stream",
          "text": [
            "938/938 [==============================] - 14s 15ms/step - loss: 0.5279 - accuracy: 0.7571\n"
          ],
          "name": "stdout"
        },
        {
          "output_type": "execute_result",
          "data": {
            "text/plain": [
              "[0.5279243588447571, 0.7570666670799255]"
            ]
          },
          "metadata": {
            "tags": []
          },
          "execution_count": 16
        }
      ]
    },
    {
      "cell_type": "code",
      "metadata": {
        "id": "ygAxezQC8Fc4"
      },
      "source": [
        "def plot_confusion_matrix(y_true, y_pred, ax, class_names, vmax=None,  #Function to plot cfm\n",
        "                          normed=True, title='Confusion matrix'):\n",
        "    matrix = confusion_matrix(y_true,y_pred)                           #From sklearn\n",
        "    if normed:\n",
        "        matrix = matrix.astype('float') / matrix.sum(axis=1)[:, np.newaxis]\n",
        "    sb.heatmap(matrix, vmax=vmax, annot=True, square=True, ax=ax,\n",
        "               cmap=plt.cm.Blues_r, cbar=False, linecolor='black',\n",
        "               linewidths=1, xticklabels=class_names)\n",
        "    ax.set_title(title, y=1.20, fontsize=16)\n",
        "    ax.set_xlabel('Predicted labels', y=1.10, fontsize=12)\n",
        "    ax.set_yticklabels(class_names, rotation=0)"
      ],
      "execution_count": null,
      "outputs": []
    },
    {
      "cell_type": "code",
      "metadata": {
        "id": "TRI8uwcF9szG",
        "colab": {
          "base_uri": "https://localhost:8080/"
        },
        "outputId": "14bc23b6-e328-471d-e57b-1f4a154aa0a8"
      },
      "source": [
        "y_train_pred = model.predict_classes(X_train_tokenized)    #Predicted output\n",
        "y_test_pred = model.predict_classes(X_test_tokenized)"
      ],
      "execution_count": null,
      "outputs": [
        {
          "output_type": "stream",
          "text": [
            "/usr/local/lib/python3.7/dist-packages/tensorflow/python/keras/engine/sequential.py:450: UserWarning: `model.predict_classes()` is deprecated and will be removed after 2021-01-01. Please use instead:* `np.argmax(model.predict(x), axis=-1)`,   if your model does multi-class classification   (e.g. if it uses a `softmax` last-layer activation).* `(model.predict(x) > 0.5).astype(\"int32\")`,   if your model does binary classification   (e.g. if it uses a `sigmoid` last-layer activation).\n",
            "  warnings.warn('`model.predict_classes()` is deprecated and '\n"
          ],
          "name": "stderr"
        }
      ]
    },
    {
      "cell_type": "code",
      "metadata": {
        "id": "EvY1En5F8Hzc",
        "colab": {
          "base_uri": "https://localhost:8080/",
          "height": 235
        },
        "outputId": "d93cb5e7-3777-4b3c-a3fd-994ef0987bbb"
      },
      "source": [
        "fig, (axis1, axis2) = plt.subplots(nrows=1, ncols=2)       \n",
        "plot_confusion_matrix(Y_train, y_train_pred, ax=axis1,\n",
        "                      title='Confusion matrix train',\n",
        "                      class_names=['Positive', 'Negative'])\n",
        "plot_confusion_matrix(Y_test, y_test_pred, ax=axis2,\n",
        "                      title='Confusion matrix test',\n",
        "                      class_names=['Positive', 'Negative'])"
      ],
      "execution_count": null,
      "outputs": [
        {
          "output_type": "display_data",
          "data": {
            "image/png": "[encoded data removed]",
            "text/plain": [
              "<Figure size 432x288 with 2 Axes>"
            ]
          },
          "metadata": {
            "tags": [],
            "needs_background": "light"
          }
        }
      ]
    },
    {
      "cell_type": "code",
      "metadata": {
        "id": "vUg9xWTvWKye",
        "colab": {
          "base_uri": "https://localhost:8080/"
        },
        "outputId": "0ac08d0e-c475-43d0-ee9f-91bf9a22cdd7"
      },
      "source": [
        "confusion_matrix(Y_train,y_train_pred)"
      ],
      "execution_count": null,
      "outputs": [
        {
          "output_type": "execute_result",
          "data": {
            "text/plain": [
              "array([[30354,  4426],\n",
              "       [ 8028, 27192]])"
            ]
          },
          "metadata": {
            "tags": []
          },
          "execution_count": 20
        }
      ]
    },
    {
      "cell_type": "code",
      "metadata": {
        "id": "BoTNK_o24iM5",
        "colab": {
          "base_uri": "https://localhost:8080/",
          "height": 295
        },
        "outputId": "784a0dde-e7c2-48de-dd1b-13d116adc103"
      },
      "source": [
        "loss_train = hist.history['loss']\n",
        "loss_val = hist.history['val_loss']\n",
        "epochs = range(1,21)\n",
        "plt.plot(epochs, loss_train, 'g', label='Training loss')\n",
        "plt.plot(epochs, loss_val, 'b', label='validation loss')\n",
        "plt.title('Training and Validation loss')\n",
        "plt.xlabel('Epochs')\n",
        "plt.ylabel('Loss')\n",
        "plt.legend()\n",
        "plt.show()     "
      ],
      "execution_count": null,
      "outputs": [
        {
          "output_type": "display_data",
          "data": {
            "image/png": "[encoded data removed]",
            "text/plain": [
              "<Figure size 432x288 with 1 Axes>"
            ]
          },
          "metadata": {
            "tags": [],
            "needs_background": "light"
          }
        }
      ]
    },
    {
      "cell_type": "code",
      "metadata": {
        "id": "zrc_mz5R4h4Q",
        "colab": {
          "base_uri": "https://localhost:8080/",
          "height": 295
        },
        "outputId": "371b2ea5-b28a-470c-ad96-0581bcbb5287"
      },
      "source": [
        "loss_train = hist.history['accuracy']\n",
        "loss_val = hist.history['val_accuracy']\n",
        "epochs = range(1,21)\n",
        "plt.plot(epochs, loss_train, 'g', label='Training accuracy')\n",
        "plt.plot(epochs, loss_val, 'b', label='validation accuracy')\n",
        "plt.title('Training and Validation accuracy')\n",
        "plt.xlabel('Epochs')\n",
        "plt.ylabel('Accuracy')\n",
        "plt.legend()\n",
        "plt.show()"
      ],
      "execution_count": null,
      "outputs": [
        {
          "output_type": "display_data",
          "data": {
            "image/png": "[encoded data removed]",
            "text/plain": [
              "<Figure size 432x288 with 1 Axes>"
            ]
          },
          "metadata": {
            "tags": [],
            "needs_background": "light"
          }
        }
      ]
    },
    {
      "cell_type": "code",
      "metadata": {
        "id": "oJ_Doysy4hh7"
      },
      "source": [
        "# serialize model to JSON\n",
        "model_json = model.to_json()\n",
        "with open(\"/content/drive/My Drive/SDL Lab 1 Twitter/model.json\", \"w\") as json_file:\n",
        "    json_file.write(model_json)\n",
        "# serialize weights to HDF5\n",
        "model.save_weights(\"/content/drive/My Drive/SDL Lab 1 Twitter/model.h5\")"
      ],
      "execution_count": null,
      "outputs": []
    },
    {
      "cell_type": "code",
      "metadata": {
        "id": "-ELTMQWIJUU6"
      },
      "source": [
        "from keras.models import model_from_json\n",
        "\n",
        "# load json and create model\n",
        "json_file = open('/content/drive/My Drive/SDL Lab 1 Twitter/model.json', 'r')\n",
        "loaded_model_json = json_file.read()\n",
        "json_file.close()\n",
        "loaded_model = model_from_json(loaded_model_json)\n",
        "# load weights into new model\n",
        "loaded_model.load_weights(\"/content/drive/My Drive/SDL Lab 1 Twitter/model.h5\")"
      ],
      "execution_count": null,
      "outputs": []
    },
    {
      "cell_type": "code",
      "metadata": {
        "colab": {
          "base_uri": "https://localhost:8080/"
        },
        "id": "By3uBmlqdIvF",
        "outputId": "f8cb74ce-545c-43ea-d134-9dc930121eac"
      },
      "source": [
        "sent = \"It is a sunny morning!!!\"\n",
        "sent = clean_data(sent)\n",
        "tokens = tokenizer.texts_to_sequences([sent])\n",
        "tokens = pad_sequences(tokens, maxlen=max_sent_length)\n",
        "sentiment = loaded_model.predict(np.array(tokens), batch_size=1, verbose = 2)[0][0]\n",
        "print('Sentiment =', sentiment)\n",
        "if (round(sentiment) == 0):\n",
        "    print('Negative')\n",
        "else:\n",
        "    print('Positive')"
      ],
      "execution_count": null,
      "outputs": [
        {
          "output_type": "stream",
          "text": [
            "1/1 - 0s\n",
            "Sentiment = 0.76714724\n",
            "Positive\n"
          ],
          "name": "stdout"
        }
      ]
    },
    {
      "cell_type": "code",
      "metadata": {
        "id": "hfQPimDQdg0S"
      },
      "source": [
        ""
      ],
      "execution_count": null,
      "outputs": []
    }
  ]
}